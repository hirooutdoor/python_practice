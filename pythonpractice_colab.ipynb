{
  "nbformat": 4,
  "nbformat_minor": 0,
  "metadata": {
    "colab": {
      "name": "pythonpractice_colab.ipynb",
      "provenance": [],
      "authorship_tag": "ABX9TyO3xnLIfJZwSViL7cObtuo/",
      "include_colab_link": true
    },
    "kernelspec": {
      "name": "python3",
      "display_name": "Python 3"
    }
  },
  "cells": [
    {
      "cell_type": "markdown",
      "metadata": {
        "id": "view-in-github",
        "colab_type": "text"
      },
      "source": [
        "<a href=\"https://colab.research.google.com/github/hirooutdoor/python_practice/blob/master/pythonpractice_colab.ipynb\" target=\"_parent\"><img src=\"https://colab.research.google.com/assets/colab-badge.svg\" alt=\"Open In Colab\"/></a>"
      ]
    },
    {
      "cell_type": "code",
      "metadata": {
        "colab": {
          "base_uri": "https://localhost:8080/"
        },
        "id": "BQPmx-za1iZE",
        "outputId": "d43685ca-8e52-4e06-f626-926cd84a397b"
      },
      "source": [
        "import re\n",
        "pc_list = [\"windows8\",\"windows10\",\"mac os\",\"os10\", \"windowsxp\"]\n",
        "for i,a in enumerate(pc_list):\n",
        "    r = re.compile(\"windows[8|10|xp]+\")\n",
        "    m = r.search(pc_list[i])\n",
        "    try:\n",
        "        print(m.group())\n",
        "        f = open(\"select_pc.txt\", \"a\")\n",
        "        f.write(m.group())\n",
        "        f.write(\"\\n\")\n",
        "    except:\n",
        "        print(\"マッチしません\")"
      ],
      "execution_count": 1,
      "outputs": [
        {
          "output_type": "stream",
          "text": [
            "windows8\n",
            "windows10\n",
            "マッチしません\n",
            "マッチしません\n",
            "windowsxp\n"
          ],
          "name": "stdout"
        }
      ]
    },
    {
      "cell_type": "code",
      "metadata": {
        "id": "rV8EpEVs1tT5"
      },
      "source": [
        ""
      ],
      "execution_count": 1,
      "outputs": []
    }
  ]
}